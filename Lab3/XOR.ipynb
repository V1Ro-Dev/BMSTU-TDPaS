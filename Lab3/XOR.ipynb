{
 "cells": [
  {
   "cell_type": "code",
   "id": "initial_id",
   "metadata": {
    "collapsed": true,
    "ExecuteTime": {
     "end_time": "2025-01-19T16:47:18.945666Z",
     "start_time": "2025-01-19T16:47:18.941492Z"
    }
   },
   "source": [
    "def XOR(data: str, key: str) -> str:\n",
    "    result = []\n",
    "    for i in range(len(data)):\n",
    "        result.append(chr(ord(data[i]) ^ ord(key[i % len(key)])))\n",
    "    \n",
    "    return ''.join(result)"
   ],
   "outputs": [],
   "execution_count": 3
  },
  {
   "metadata": {
    "ExecuteTime": {
     "end_time": "2025-01-19T16:47:18.956193Z",
     "start_time": "2025-01-19T16:47:18.948663Z"
    }
   },
   "cell_type": "code",
   "source": [
    "text = \"random textaklsddkldlkasdalsdkl;sadlkdkldklaldkasdk;asdk;ladk;akda\"\n",
    "key = \"r1\"\n",
    "\n",
    "encoded_text = XOR(text, key)\n",
    "print(\"Закодированный текст:\", encoded_text)\n",
    "\n",
    "decoded_text = XOR(encoded_text, key)\n",
    "print(\"Декодированный текст:\", decoded_text)"
   ],
   "id": "4cbecd0571c4e190",
   "outputs": [
    {
     "name": "stdout",
     "output_type": "stream",
     "text": [
      "Закодированный текст: \u0000P\u001CU\u001D\\RE\u0017I\u0006P\u0019]\u0001U\u0016Z\u001EU\u001EZ\u0013B\u0016P\u001EB\u0016Z\u001E\n",
      "\u0001P\u0016]\u0019U\u0019]\u0016Z\u001EP\u001EU\u0019P\u0001U\u0019\n",
      "\u0013B\u0016ZI]\u0013U\u0019\n",
      "\u0013Z\u0016P\n",
      "Декодированный текст: random textaklsddkldlkasdalsdkl;sadlkdkldklaldkasdk;asdk;ladk;akda\n"
     ]
    }
   ],
   "execution_count": 4
  }
 ],
 "metadata": {
  "kernelspec": {
   "display_name": "Python 3",
   "language": "python",
   "name": "python3"
  },
  "language_info": {
   "codemirror_mode": {
    "name": "ipython",
    "version": 2
   },
   "file_extension": ".py",
   "mimetype": "text/x-python",
   "name": "python",
   "nbconvert_exporter": "python",
   "pygments_lexer": "ipython2",
   "version": "2.7.6"
  }
 },
 "nbformat": 4,
 "nbformat_minor": 5
}
