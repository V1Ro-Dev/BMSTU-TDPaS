{
 "cells": [
  {
   "metadata": {},
   "cell_type": "markdown",
   "source": "Кодирование методом Хаффмана",
   "id": "141a20a5622fc2a5"
  },
  {
   "metadata": {
    "ExecuteTime": {
     "end_time": "2025-01-19T16:44:38.538832Z",
     "start_time": "2025-01-19T16:44:38.535398Z"
    }
   },
   "cell_type": "code",
   "source": [
    "import heapq\n",
    "from typing import Dict, List"
   ],
   "id": "c0d9bdbfe2e16b97",
   "outputs": [],
   "execution_count": 1
  },
  {
   "metadata": {
    "ExecuteTime": {
     "end_time": "2025-01-19T16:44:38.546954Z",
     "start_time": "2025-01-19T16:44:38.539828Z"
    }
   },
   "cell_type": "code",
   "source": [
    "class Node:  #нода двоичного дерева\n",
    "    def __init__(self, char: str, freq: int) -> None:\n",
    "        self.char = char  #символ\n",
    "        self.freq = freq  #частота появления символа\n",
    "        self.left = None  #левый потомок\n",
    "        self.right = None  #правый потомок\n",
    "\n",
    "    #оператор сравнения, чтобы можно было вставлять и забирать нужный узел\n",
    "    def __lt__(self, other):\n",
    "        return self.freq < other.freq"
   ],
   "id": "24a0bf6a67f8c77f",
   "outputs": [],
   "execution_count": 2
  },
  {
   "metadata": {
    "ExecuteTime": {
     "end_time": "2025-01-19T16:44:38.554798Z",
     "start_time": "2025-01-19T16:44:38.547957Z"
    }
   },
   "cell_type": "code",
   "source": [
    "def countFreq(textToEncode: str) -> Dict[str, int]: #функция подсчета частоты встречаний различных символов\n",
    "    freqDict = {}  #создаем словарь ключ - уникальный символ, значение - количество этого символа в тексте\n",
    "    for char in textToEncode:  #итерируемся по тексту\n",
    "        if char in freqDict:\n",
    "            freqDict[char] += 1  #если ключ уже есть, то значение +1\n",
    "        else:\n",
    "            freqDict[char] = 1   #иначе значение = 1\n",
    "    return freqDict"
   ],
   "id": "da3d592c605e116f",
   "outputs": [],
   "execution_count": 3
  },
  {
   "metadata": {
    "ExecuteTime": {
     "end_time": "2025-01-19T16:44:38.562950Z",
     "start_time": "2025-01-19T16:44:38.555796Z"
    }
   },
   "cell_type": "code",
   "source": [
    "def createPriorityQueue(freqDict: Dict[str, int]) -> List[Node]: #функция создания приоритетной очереди\n",
    "    priorityQueue = []  #пустой список для хранения нод\n",
    "    for char, freq in freqDict.items(): #итерируемся по словарю с частотой встречаний символов\n",
    "        priorityQueue.append(Node(char, freq))  #добавляем в список ноду\n",
    "    heapq.heapify(priorityQueue) #вызываем heapify, чтобы создать приоритетную очередь\n",
    "    return priorityQueue"
   ],
   "id": "d51b3712df27d355",
   "outputs": [],
   "execution_count": 4
  },
  {
   "metadata": {
    "ExecuteTime": {
     "end_time": "2025-01-19T16:44:38.571767Z",
     "start_time": "2025-01-19T16:44:38.563928Z"
    }
   },
   "cell_type": "code",
   "source": [
    "def buildHuffmanTree(heap: List[Node]) -> Node: #создаем двоичное дерево хаффмана\n",
    "    while len(heap) > 1:  #пока в очереди больше 1 элемента\n",
    "        l = heapq.heappop(heap)  #достаем ноду с наименьшей частотой\n",
    "        r = heapq.heappop(heap)  #достаем вторую ноду с наименьшей частотой\n",
    "\n",
    "        merged = Node(None, l.freq + r.freq)  #создаем смерженную ноду\n",
    "        merged.left = l  #левый потомок\n",
    "        merged.right = r  #правый потомок\n",
    "\n",
    "        heapq.heappush(heap, merged) #пушим обратно в очередь\n",
    "\n",
    "    return heap[0]  #возвращаем корень нашего дерева хаффмана"
   ],
   "id": "801ddb35fc7d0945",
   "outputs": [],
   "execution_count": 5
  },
  {
   "metadata": {
    "ExecuteTime": {
     "end_time": "2025-01-19T16:44:38.579733Z",
     "start_time": "2025-01-19T16:44:38.572759Z"
    }
   },
   "cell_type": "code",
   "source": [
    "def buildHuffmanCodes(root: Node, current_code=\"\", codes=None) -> Dict[str, int]: #функция составления кодов хаффмана\n",
    "    if codes is None: #передаем изначально codes = None, т.к есть прикол с mutable defaults)\n",
    "        codes = {}\n",
    "\n",
    "    if root is None: #если доходим до листа дерева, то возвращаем его\n",
    "        return codes\n",
    "\n",
    "    if root.char is not None:\n",
    "        codes[root.char] = current_code\n",
    "\n",
    "    buildHuffmanCodes(root.left, current_code + \"0\", codes)  #далее рекурсивно обходим дерево, сохраняя 0 для левого поддерева и 1 для правого\n",
    "    buildHuffmanCodes(root.right, current_code + \"1\", codes)\n",
    "\n",
    "    return codes"
   ],
   "id": "77bbdb1a1e09323c",
   "outputs": [],
   "execution_count": 6
  },
  {
   "metadata": {
    "ExecuteTime": {
     "end_time": "2025-01-19T16:44:38.587819Z",
     "start_time": "2025-01-19T16:44:38.580731Z"
    }
   },
   "cell_type": "code",
   "source": [
    "def encode(text: str, huffmanCodes: Dict[str, int]) -> str:\n",
    "    return ''.join([huffmanCodes[char] for char in text])  #генератором списка кодируем с помощью кодов хаффмана наш текст и преобразовываем наш список в строку"
   ],
   "id": "f740f3df8f297942",
   "outputs": [],
   "execution_count": 7
  },
  {
   "metadata": {
    "ExecuteTime": {
     "end_time": "2025-01-19T16:44:38.595847Z",
     "start_time": "2025-01-19T16:44:38.587819Z"
    }
   },
   "cell_type": "code",
   "source": [
    "def decode(encodedText: str, root: Node) -> str:  # Декодирование закодированного текста\n",
    "    decodedText = \"\"  # Восстановленный текст\n",
    "    currentNode = root  # Начинаем с корня дерева\n",
    "\n",
    "    for bit in encodedText:  # Проходим по каждому биту закодированной строки\n",
    "        if bit == '0':\n",
    "            currentNode = currentNode.left  # Переход влево\n",
    "        else:\n",
    "            currentNode = currentNode.right  # Переход вправо\n",
    "\n",
    "        if currentNode.left is None and currentNode.right is None:  # Если это лист, добавляем символ\n",
    "            decodedText += currentNode.char\n",
    "            currentNode = root  # Возвращаемся к корню\n",
    "\n",
    "    return decodedText"
   ],
   "id": "b55410f2bb44febf",
   "outputs": [],
   "execution_count": 8
  },
  {
   "metadata": {
    "ExecuteTime": {
     "end_time": "2025-01-19T16:44:38.604361Z",
     "start_time": "2025-01-19T16:44:38.596849Z"
    }
   },
   "cell_type": "code",
   "source": [
    "def solution():\n",
    "    textToEncode = (\"Множество целых чисел, представимых в памяти ЭВМ, ограничено. Диапазон значений зависит от размера области памяти, используемой для размещения чисел.\")\n",
    "    freqDict = countFreq(textToEncode)  #словарь с частотой появления символов\n",
    "    priorityQueue = createPriorityQueue(freqDict)  #приоритетная очередь с нодами\n",
    "    treeNode = buildHuffmanTree(priorityQueue)    #дерево хаффмана\n",
    "    huffmanCodes = buildHuffmanCodes(treeNode)    #коды хаффмана\n",
    "    encodedText = encode(textToEncode, huffmanCodes)  #полученный закодированный текст\n",
    "    decodedText = decode(encodedText, treeNode)\n",
    "    print(\"Коды Хаффмана:\", huffmanCodes, '\\n')\n",
    "    print(\"Закодированное сообщение:\", encodedText, '\\n')\n",
    "    print('Раскодированное сообщение:', decodedText)"
   ],
   "id": "5a0056d5cc6d98f",
   "outputs": [],
   "execution_count": 9
  },
  {
   "metadata": {
    "ExecuteTime": {
     "end_time": "2025-01-19T16:44:38.612618Z",
     "start_time": "2025-01-19T16:44:38.605359Z"
    }
   },
   "cell_type": "code",
   "source": "solution()",
   "id": "d28946e37df7efde",
   "outputs": [
    {
     "name": "stdout",
     "output_type": "stream",
     "text": [
      "Коды Хаффмана: {'т': '0000', 'с': '0001', 'н': '0010', 'й': '001100', 'М': '001101', 'Д': '0011100', 'г': '0011101', 'ц': '0011110', 'щ': '0011111', 'я': '01000', 'ы': '010010', 'д': '010011', 'ч': '01010', '.': '010110', 'ь': '0101110', 'б': '0101111', 'у': '0110000', 'ж': '0110001', 'х': '011001', 'в': '01101', 'о': '0111', ' ': '100', 'В': '1010000', 'Э': '1010001', ',': '101001', 'р': '10101', 'п': '10110', 'з': '10111', 'е': '1100', 'а': '1101', 'л': '11100', 'м': '11101', 'и': '1111'} \n",
      "\n",
      "Закодированное сообщение: 001101001001110110001110000010000011010111100001111011001110001001001100110001010111100011100111001010011001011010101110001001100010000110101101111111101010010011001100011011001011011011110101000000011111001010001101000000110110100110001110011101101011101001011110101011000010011101011010000111001111110110110110110111011100101001011100101101010101100001011110011001001011111010110111110001111100001000111000010010101110110111111011100101011101100011101011111110011010001000011111001011011011110101000000011111010011001111000110110011111100010111010111011000011001110101110011001000100111110001000100101011101101111110111000011111110000101111010001000101011110001110011100010110 \n",
      "\n",
      "Раскодированное сообщение: Множество целых чисел, представимых в памяти ЭВМ, ограничено. Диапазон значений зависит от размера области памяти, используемой для размещения чисел.\n"
     ]
    }
   ],
   "execution_count": 10
  },
  {
   "metadata": {
    "ExecuteTime": {
     "end_time": "2025-01-19T16:44:38.615813Z",
     "start_time": "2025-01-19T16:44:38.613615Z"
    }
   },
   "cell_type": "code",
   "source": "",
   "id": "2fabf1b5c9aab66f",
   "outputs": [],
   "execution_count": 10
  }
 ],
 "metadata": {
  "kernelspec": {
   "display_name": "Python 3",
   "language": "python",
   "name": "python3"
  },
  "language_info": {
   "codemirror_mode": {
    "name": "ipython",
    "version": 2
   },
   "file_extension": ".py",
   "mimetype": "text/x-python",
   "name": "python",
   "nbconvert_exporter": "python",
   "pygments_lexer": "ipython2",
   "version": "2.7.6"
  }
 },
 "nbformat": 4,
 "nbformat_minor": 5
}
