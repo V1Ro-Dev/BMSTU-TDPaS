{
 "cells": [
  {
   "cell_type": "code",
   "id": "initial_id",
   "metadata": {
    "collapsed": true,
    "ExecuteTime": {
     "end_time": "2025-01-19T16:45:52.081580Z",
     "start_time": "2025-01-19T16:45:52.077891Z"
    }
   },
   "source": [
    "def encode(string):\n",
    "    if len(string) == 0:\n",
    "        return string\n",
    "    result = \"\"\n",
    "    counter = 1\n",
    "    for i in range(len(string) - 1):\n",
    "        if string[i] == string[i + 1]:\n",
    "            counter += 1\n",
    "        else:\n",
    "            result += string[i] + str(counter)\n",
    "            counter = 1\n",
    "    \n",
    "    result += string[-1] + str(counter)\n",
    "    return result\n"
   ],
   "outputs": [],
   "execution_count": 4
  },
  {
   "metadata": {
    "ExecuteTime": {
     "end_time": "2025-01-19T16:45:52.090366Z",
     "start_time": "2025-01-19T16:45:52.082644Z"
    }
   },
   "cell_type": "code",
   "source": [
    "def decode(string):\n",
    "    result = \"\"\n",
    "    for i in range(len(string)):\n",
    "        if string[i].isdigit():\n",
    "            for j in range(int(string[i])):\n",
    "                result += string[i - 1]\n",
    "    return result"
   ],
   "id": "379d33c8cd6d9f76",
   "outputs": [],
   "execution_count": 5
  },
  {
   "metadata": {
    "ExecuteTime": {
     "end_time": "2025-01-19T16:45:52.099428Z",
     "start_time": "2025-01-19T16:45:52.094885Z"
    }
   },
   "cell_type": "code",
   "source": [
    "encodedSeq = encode('testtesttest')\n",
    "print('Закодированная последовательность', encodedSeq)\n",
    "decodedSeq = decode(encodedSeq)\n",
    "print(decodedSeq)"
   ],
   "id": "6562295333317b06",
   "outputs": [
    {
     "name": "stdout",
     "output_type": "stream",
     "text": [
      "Закодированная последовательность t1e1s1t2e1s1t2e1s1t1\n",
      "testtesttest\n"
     ]
    }
   ],
   "execution_count": 6
  }
 ],
 "metadata": {
  "kernelspec": {
   "display_name": "Python 3",
   "language": "python",
   "name": "python3"
  },
  "language_info": {
   "codemirror_mode": {
    "name": "ipython",
    "version": 2
   },
   "file_extension": ".py",
   "mimetype": "text/x-python",
   "name": "python",
   "nbconvert_exporter": "python",
   "pygments_lexer": "ipython2",
   "version": "2.7.6"
  }
 },
 "nbformat": 4,
 "nbformat_minor": 5
}
