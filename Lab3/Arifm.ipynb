{
 "cells": [
  {
   "metadata": {},
   "cell_type": "markdown",
   "source": "1-ый вариант арифметического кодирования с использованием десятичных чисел",
   "id": "957a58850d863544"
  },
  {
   "metadata": {},
   "cell_type": "code",
   "outputs": [],
   "execution_count": 4,
   "source": [
    "from typing import Dict, List  #подключаем модуль typing для аннотации типов\n",
    "from decimal import Decimal, getcontext\n",
    "\n",
    "getcontext().prec = 300  #количество занков после запятой"
   ],
   "id": "initial_id"
  },
  {
   "metadata": {},
   "cell_type": "code",
   "outputs": [],
   "execution_count": 4,
   "source": [
    "def countProbability(text: str) -> Dict[str, Decimal]:  #функция для подсчета частоты встречаемых символов\n",
    "    textSize = len(text)  #длина сообщения, которое нужно закодировать\n",
    "    probability = {}  #словарь для подсчета частоты встречаемых символов (ключ - символ, значение - количество данного символа в тексте)\n",
    "    for char in text:  #цикл, который итерируется по сообщению\n",
    "        if char in probability:  #если ключ char есть в словаре, то +1 к его значению\n",
    "            probability[char] += 1\n",
    "        else:\n",
    "            probability[char] = 1  #иначе значение ключа = 1\n",
    "    probability = {key: Decimal(value) / Decimal(textSize) for key, value in probability.items()}  #насчитываем частоту появления каждого уникального символа\n",
    "    return probability  #возвращаем итоговый словарь"
   ],
   "id": "9e65f88a2828d6b7"
  },
  {
   "metadata": {},
   "cell_type": "code",
   "outputs": [],
   "execution_count": null,
   "source": [
    "def buildSegmentDict(probability: Dict[str, Decimal]) -> Dict[str, List[Decimal]]:  #функция для составления \"рабочих\" полуинтервалов для каждого символа, где длина полуинтервала = частоте появления символа\n",
    "    segmentDict = {}  #словарь для составления полуинтервалов (ключ - символ, значение - список, где 0-ой элемент - левая граница, а 1-ый элемент - правая граница\n",
    "    left = Decimal(0) #левая граница - 0\n",
    "    for char in probability.keys():  #итерируемся по уникальным символам и составлям \"рабочий\" полуинтервал для каждого символа\n",
    "        segmentDict[char] = [left, left + probability[char]]\n",
    "        left = left + probability[char]\n",
    "    return segmentDict  #возвращаем итоговый словарь"
   ],
   "id": "5994a6e0a94f6eae"
  },
  {
   "metadata": {},
   "cell_type": "code",
   "outputs": [],
   "execution_count": null,
   "source": [
    "def encode(text: str, segmentDict: Dict[str, List[Decimal]]) -> Decimal:  #функция для кодирования текста в число\n",
    "    l, r = 0, 1  #левая граница полуинтервала - 0, правая - 1\n",
    "    for char in text:  #итерируемся по каждому символу текста и пересчитываем левую и правую границу полуинтервала\n",
    "        newRight = l + (r - l) * segmentDict[char][1]\n",
    "        newLeft = l + (r - l) * segmentDict[char][0]\n",
    "        l = newLeft\n",
    "        r = newRight\n",
    "    return (l + r) / 2  #в результате наш текст - любое число из полуинтервала [l, r), для лучшей точности возьмем середину"
   ],
   "id": "9a5541cfe3e962fb"
  },
  {
   "metadata": {},
   "cell_type": "code",
   "outputs": [],
   "execution_count": null,
   "source": [
    "def decode(segmentDict: Dict[str, List[Decimal]], code: Decimal) -> str:  #функция для декодирования числа в текст\n",
    "    ans = \"\"  #наш текст, который должен получиться, лежит в переменной ans\n",
    "    while True:   #запускаем бесконечный цикл, из которого мы выйдем только тогда, когда встретим остановочный символ\n",
    "        for char, segment in segmentDict.items():  #итерируемся по словарю с \"рабочими\" полуинтервалами\n",
    "            if char == \"ඞ\": #если встретили, то возвращаем ответ\n",
    "                return ans\n",
    "            if segment[0] <= code < segment[1]:  # если код(число - которое получили в процессе кодирования текста) лежит в полуинтервале [l, r), то это нужный нам символ\n",
    "                ans += char  #кладем символ в ответ\n",
    "                code = (code - segment[0]) / (segment[1] - segment[0])  #пересчитываем код для дальнейшего декодирования\n",
    "                break"
   ],
   "id": "53df459fc3caad3"
  },
  {
   "metadata": {},
   "cell_type": "code",
   "outputs": [],
   "execution_count": null,
   "source": [
    "def solution():\n",
    "    with open(\"in.txt\", 'r', encoding='utf-8') as file:\n",
    "        textToEncode = file.read()\n",
    "    probabilityDict = countProbability(textToEncode)  #словарь частот встречаемых символов\n",
    "    segmentDict = buildSegmentDict(probabilityDict)  #словарь с \"рабочими\" полуинтервалами\n",
    "    encodedResult = encode(textToEncode, segmentDict)  #закодированный текст\n",
    "    print(\"Encoded text:\", encodedResult)  #вывод числа\n",
    "    decodedResult = decode(segmentDict, encodedResult)  #декодированное число(текст)\n",
    "    print(decodedResult)  #вывод текста"
   ],
   "id": "24e8dc81ed9045d4"
  },
  {
   "metadata": {},
   "cell_type": "code",
   "outputs": [
    {
     "name": "stdout",
     "output_type": "stream",
     "text": [
      "Encoded text: 0.0000352534345940276328141935271864563592249163800409361591493566223981870793389728694301235268970069437968993894620592724794543932527947358375229899501523485818164825225646176584044404599896875104735130000256417182573454178175861153858029212871688217728168968495953168223529008007255150493911240063503471\n",
      "Все символы такого алфавита пронумерованы от 0 до 255, а каждому номеру соответствует 8-разрядный двоичный код от 00000000 до 11111111.\n",
      "Этот код является порядковым номером символа в двоичной системе счисления.\n"
     ]
    }
   ],
   "execution_count": 5,
   "source": "solution()",
   "id": "9b0b0bf52b69547d"
  },
  {
   "metadata": {},
   "cell_type": "markdown",
   "source": "2 Вариант Арифметического кодирования (более надежный) с использованием рациональных чисел",
   "id": "dcaf729bb8c77d7b"
  },
  {
   "metadata": {
    "ExecuteTime": {
     "end_time": "2024-12-12T15:18:55.177605Z",
     "start_time": "2024-12-12T15:18:55.174519Z"
    }
   },
   "cell_type": "code",
   "source": [
    "from typing import Dict, List  # подключаем модуль typing для аннотаций типов\n",
    "from fractions import Fraction  # подключаем модуль fractions для работы с рациональными числами"
   ],
   "id": "b53379b460ba5d46",
   "outputs": [],
   "execution_count": 7
  },
  {
   "metadata": {},
   "cell_type": "code",
   "outputs": [],
   "execution_count": null,
   "source": [
    "def countProbability(text: str) -> Dict[str, Fraction]:  # Функция для подсчета частоты встречаемых символов\n",
    "    textSize = len(text)  # длина сообщения, которое нужно закодировать\n",
    "    probability = {}  # словарь для подсчета частоты символов (ключ - символ, значение - количество данного символа в тексте)\n",
    "    for char in text:  # цикл, который итерируется по сообщению\n",
    "        if char in probability:  # если ключ char есть в словаре, то +1 к его значению\n",
    "            probability[char] += 1\n",
    "        else:\n",
    "            probability[char] = 1  # иначе значение ключа = 1\n",
    "    probability = {key: Fraction(value, textSize) for key, value in probability.items()}  # насчитываем частоту появления каждого уникального символа\n",
    "    return probability  # возвращаем итоговый словарь"
   ],
   "id": "d6402eb504dd2081"
  },
  {
   "metadata": {},
   "cell_type": "code",
   "outputs": [],
   "execution_count": null,
   "source": [
    "def buildSegmentDict(probability: Dict[str, Fraction]) -> Dict[str, List[Fraction]]:\n",
    "    # Функция для составления \"рабочих\" полуинтервалов для каждого символа, где длина полуинтервала = частоте появления символа\n",
    "    segmentDict = {}  # словарь для составления полуинтервалов (ключ - символ, значение - список, где 0-ой элемент - левая граница, а 1-ый элемент - правая граница)\n",
    "    left = Fraction(0, 1)  # левая граница\n",
    "    for char in probability.keys():  # итерируемся по уникальным символам и составляем \"рабочий\" полуинтервал для каждого символа\n",
    "        segmentDict[char] = [left, left + probability[char]]\n",
    "        left = left + probability[char]\n",
    "    return segmentDict  # возвращаем итоговый словарь"
   ],
   "id": "a47c4d5abade19b8"
  },
  {
   "metadata": {},
   "cell_type": "code",
   "outputs": [],
   "execution_count": null,
   "source": [
    "def encode(text: str, segmentDict: Dict[str, List[Fraction]]) -> Fraction:  # Функция для кодирования текста в число\n",
    "    l, r = 0, 1  # левая граница полуинтервала = 0, правая = 1\n",
    "    for char in text:  # итерируемся по каждому символу текста и пересчитываем левую и правую границу полуинтервала\n",
    "        newRight = l + (r - l) * segmentDict[char][1]\n",
    "        newLeft = l + (r - l) * segmentDict[char][0]\n",
    "        l = newLeft\n",
    "        r = newRight\n",
    "    return (l + r) / 2  # в результате на текст - любое число из полуинтервала [l, r]. Для лучшей точности возьмем середину"
   ],
   "id": "4dab9a5b9a95af42"
  },
  {
   "metadata": {},
   "cell_type": "code",
   "outputs": [],
   "execution_count": null,
   "source": [
    "def decode(segmentDict: Dict[str, List[Fraction]], code: Fraction) -> str:  # Функция для декодирования числа в текст\n",
    "    ans = \"\"  # наш текст, который должен получиться, лежит в переменной ans\n",
    "    while True:  # запускаем бесконечный цикл, из которого мы выйдем только тогда, когда встретим остановочный символ\n",
    "        for char, segment in segmentDict.items():  # итерируемся по словарю с \"рабочими\" полуинтервалами\n",
    "            if char == \"ඞ\":  # если встретили @, то возвращаем ответ\n",
    "                return ans\n",
    "            if segment[0] <= code < segment[1]:  # если код(число - которое получили в процессе кодирования текста) лежит в полуинтервале [l, r], то это нужный нам символ\n",
    "                ans += char  # кладем символ в ответ\n",
    "                code = (code - segment[0]) / (segment[1] - segment[0])  # пересчитываем код для дальнейшего декодирования\n",
    "                break"
   ],
   "id": "89be7126b3598238"
  },
  {
   "metadata": {},
   "cell_type": "code",
   "outputs": [],
   "execution_count": null,
   "source": [
    "def solution():\n",
    "    with open(\"in.txt\", 'r', encoding='utf-8') as file:\n",
    "        textToEncode = file.read()\n",
    "    probabilityDict = countProbability(textToEncode)  # словарь частот встречаемых символов\n",
    "    segmentDict = buildSegmentDict(probabilityDict)  # словарь с \"рабочими\" полуинтервалами\n",
    "    encodedResult = encode(textToEncode, segmentDict)  # закодированный текст\n",
    "    print(\"Encoded text:\", encodedResult)  # вывод числа\n",
    "    decodedResult = decode(segmentDict, encodedResult)  # декодированное число(текст)\n",
    "    print(decodedResult)  # вывод текста"
   ],
   "id": "72ba396ed26738ac"
  },
  {
   "metadata": {
    "ExecuteTime": {
     "end_time": "2024-12-12T15:19:47.836508Z",
     "start_time": "2024-12-12T15:19:47.824152Z"
    }
   },
   "cell_type": "code",
   "source": "solution()",
   "id": "1431e0fe57dd1e63",
   "outputs": [
    {
     "name": "stdout",
     "output_type": "stream",
     "text": [
      "Encoded text: 934973932447759254019170661893558357922003954531836936312161261992232719167753508537069896076816804329144646823711742155673863212239645664693959304758353607666814319864374492820691618487570358751566539951683945208720879640314904489214963593281566649192011058368546810438018818012659274118140870780371190427766155315259523133109233553062046750759146084106163043036092161582314504037488182593239594750833468118011653044526946125626611582269072659322160721144406588402261524702390569980301/26521499060013726569597671373379046683733575573704049827947620715911029840232870154635323349480916678523576344619495209491143811704856260215933651886690604040178487350554322259124965230375319512890325055737944497298432845407025464265247090453571290164068811931408314661580582283479472146145553579624275636519269032504905641290037469899189516058270570453029862191943877780505117900352314507301495630393941363681958612404278046351683044810971692560784639970806098248868302907984636133029444811\n",
      "Все символы такого алфавита пронумерованы от 0 до 255, а каждому номеру соответствует 8-разрядный двоичный код от 00000000 до 11111111.\n",
      "Этот код является порядковым номером символа в двоичной системе счисления.\n"
     ]
    }
   ],
   "execution_count": 8
  },
  {
   "metadata": {},
   "cell_type": "code",
   "outputs": [],
   "execution_count": null,
   "source": "",
   "id": "ef6d4f57815acf2e"
  }
 ],
 "metadata": {
  "kernelspec": {
   "display_name": "Python 3",
   "language": "python",
   "name": "python3"
  },
  "language_info": {
   "codemirror_mode": {
    "name": "ipython",
    "version": 2
   },
   "file_extension": ".py",
   "mimetype": "text/x-python",
   "name": "python",
   "nbconvert_exporter": "python",
   "pygments_lexer": "ipython2",
   "version": "2.7.6"
  }
 },
 "nbformat": 4,
 "nbformat_minor": 5
}
