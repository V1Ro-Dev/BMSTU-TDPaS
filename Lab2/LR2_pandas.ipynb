{
 "cells": [
  {
   "metadata": {},
   "cell_type": "markdown",
   "source": "# Pandas"
  },
  {
   "cell_type": "markdown",
   "metadata": {},
   "source": [
    "Полезные ссылки:\n",
    "* https://pandas.pydata.org/docs/user_guide/index.html\n",
    "* https://pandas.pydata.org/docs/reference/index.html"
   ]
  },
  {
   "cell_type": "markdown",
   "metadata": {},
   "source": [
    "### Задачи"
   ]
  },
  {
   "metadata": {
    "ExecuteTime": {
     "end_time": "2024-11-20T02:51:50.677252Z",
     "start_time": "2024-11-20T02:51:50.674152Z"
    }
   },
   "cell_type": "code",
   "source": "import pandas as pd",
   "outputs": [],
   "execution_count": 54
  },
  {
   "cell_type": "markdown",
   "metadata": {},
   "source": [
    "1. В файлах `recipes_sample.csv` и `reviews_sample.csv` находится информация об рецептах блюд и отзывах на эти рецепты соответственно. Загрузите данные из файлов в виде `pd.DataFrame` с названиями `recipes` и `reviews`. Обратите внимание на корректное считывание столбца(ов) с индексами."
   ]
  },
  {
   "metadata": {
    "ExecuteTime": {
     "end_time": "2024-11-20T02:51:51.365306Z",
     "start_time": "2024-11-20T02:51:50.745263Z"
    }
   },
   "cell_type": "code",
   "source": [
    "recipes = pd.read_csv('recipes_sample.csv', index_col=1)\n",
    "reviews = pd.read_csv('reviews_sample.csv', index_col=0)\n",
    "print(recipes.head())\n",
    "print(\"-----\")\n",
    "print(reviews.head())"
   ],
   "outputs": [
    {
     "name": "stdout",
     "output_type": "stream",
     "text": [
      "                                           name  minutes  contributor_id  \\\n",
      "id                                                                         \n",
      "44123     george s at the cove  black bean soup       90           35193   \n",
      "67664        healthy for them  yogurt popsicles       10           91970   \n",
      "38798              i can t believe it s spinach       30            1533   \n",
      "35173                      italian  gut busters       45           22724   \n",
      "84797  love is in the air  beef fondue   sauces       25            4470   \n",
      "\n",
      "        submitted  n_steps                                        description  \\\n",
      "id                                                                              \n",
      "44123  2002-10-25      NaN  an original recipe created by chef scott meska...   \n",
      "67664  2003-07-26      NaN  my children and their friends ask for my homem...   \n",
      "38798  2002-08-29      NaN            these were so go, it surprised even me.   \n",
      "35173  2002-07-27      NaN  my sister-in-law made these for us at a family...   \n",
      "84797  2004-02-23      4.0  i think a fondue is a very romantic casual din...   \n",
      "\n",
      "       n_ingredients  \n",
      "id                    \n",
      "44123           18.0  \n",
      "67664            NaN  \n",
      "38798            8.0  \n",
      "35173            NaN  \n",
      "84797            NaN  \n",
      "-----\n",
      "           user_id  recipe_id        date  rating  \\\n",
      "370476       21752      57993  2003-05-01       5   \n",
      "624300      431813     142201  2007-09-16       5   \n",
      "187037      400708     252013  2008-01-10       4   \n",
      "706134  2001852463     404716  2017-12-11       5   \n",
      "312179       95810     129396  2008-03-14       5   \n",
      "\n",
      "                                                   review  \n",
      "370476  Last week whole sides of frozen salmon fillet ...  \n",
      "624300  So simple and so tasty!  I used a yellow capsi...  \n",
      "187037  Very nice breakfast HH, easy to make and yummy...  \n",
      "706134  These are a favorite for the holidays and so e...  \n",
      "312179  Excellent soup!  The tomato flavor is just gre...  \n"
     ]
    }
   ],
   "execution_count": 55
  },
  {
   "metadata": {},
   "cell_type": "markdown",
   "source": [
    "2. Для каждой из таблиц выведите основные параметры:\n",
    "* количество точек данных (строк);\n",
    "* количество столбцов;\n",
    "* тип данных каждого столбца."
   ]
  },
  {
   "metadata": {
    "ExecuteTime": {
     "end_time": "2024-11-20T02:51:51.371737Z",
     "start_time": "2024-11-20T02:51:51.366278Z"
    }
   },
   "cell_type": "code",
   "source": [
    "\n",
    "print(f\"Recipes:\"\n",
    "      f\"\\ncols: {recipes.shape[1]}\"\n",
    "      f\"\\nrows: {recipes.shape[0]}\"\n",
    "      f\"\\ndata types:\\n{recipes.dtypes}\")\n",
    "print(\"---\")\n",
    "print(f\"Reviews:\"\n",
    "      f\"\\ncols: {reviews.shape[1]}\"\n",
    "      f\"\\nrows: {reviews.shape[0]}\"\n",
    "      f\"\\ndata types:\\n{reviews.dtypes}\")"
   ],
   "outputs": [
    {
     "name": "stdout",
     "output_type": "stream",
     "text": [
      "Recipes:\n",
      "cols: 7\n",
      "rows: 30000\n",
      "data types:\n",
      "name               object\n",
      "minutes             int64\n",
      "contributor_id      int64\n",
      "submitted          object\n",
      "n_steps           float64\n",
      "description        object\n",
      "n_ingredients     float64\n",
      "dtype: object\n",
      "---\n",
      "Reviews:\n",
      "cols: 5\n",
      "rows: 126696\n",
      "data types:\n",
      "user_id       int64\n",
      "recipe_id     int64\n",
      "date         object\n",
      "rating        int64\n",
      "review       object\n",
      "dtype: object\n"
     ]
    }
   ],
   "execution_count": 56
  },
  {
   "cell_type": "markdown",
   "metadata": {},
   "source": [
    "3. Исследуйте, в каких столбцах таблиц содержатся пропуски. Посчитайте долю строк, содержащих пропуски, в отношении к общему количеству строк."
   ]
  },
  {
   "metadata": {
    "ExecuteTime": {
     "end_time": "2024-11-20T02:51:51.405808Z",
     "start_time": "2024-11-20T02:51:51.372733Z"
    }
   },
   "cell_type": "code",
   "source": [
    "empty_recipes = recipes[recipes.isnull().any(axis=1)]\n",
    "empty_reviews = reviews[reviews.isnull().any(axis=1)]\n",
    "print(f'amount of empty_recipes: {len(empty_recipes)}')\n",
    "print(f'amount of empty_reviews: {len(empty_reviews)}')\n",
    "print(f'Proportion of empty recipes: {len(empty_recipes) / len(recipes)}')\n",
    "print(f'Proportion of empty reviews: {len(empty_reviews) / len(reviews)}')"
   ],
   "outputs": [
    {
     "name": "stdout",
     "output_type": "stream",
     "text": [
      "amount of empty_recipes: 17054\n",
      "amount of empty_reviews: 17\n",
      "Proportion of empty recipes: 0.5684666666666667\n",
      "Proportion of empty reviews: 0.00013417945317926376\n"
     ]
    }
   ],
   "execution_count": 57
  },
  {
   "cell_type": "markdown",
   "metadata": {},
   "source": [
    "4. Рассчитайте среднее значение для каждого из числовых столбцов (где это имеет смысл)."
   ]
  },
  {
   "metadata": {
    "ExecuteTime": {
     "end_time": "2024-11-20T02:51:51.411573Z",
     "start_time": "2024-11-20T02:51:51.406803Z"
    }
   },
   "cell_type": "code",
   "source": [
    "print(f\"Reviews: \\nAvg rating {reviews['rating'].mean()}\\n\")\n",
    "print(f\"Recipes:\\n\"\n",
    "      f\"Avg minutes: {recipes['minutes'].mean()}\\n\"\n",
    "      f\"Avg steps: {recipes['n_steps'].mean()}\\n\"\n",
    "      f\"Avg ingredients: {recipes['n_ingredients'].mean()}\\n \")"
   ],
   "outputs": [
    {
     "name": "stdout",
     "output_type": "stream",
     "text": [
      "Reviews: \n",
      "Avg rating 4.410802235271832\n",
      "\n",
      "Recipes:\n",
      "Avg minutes: 123.35813333333333\n",
      "Avg steps: 9.805582137161085\n",
      "Avg ingredients: 9.008285984848484\n",
      " \n"
     ]
    }
   ],
   "execution_count": 58
  },
  {
   "cell_type": "markdown",
   "metadata": {},
   "source": [
    "5. Выведите информацию о рецептах, время выполнения которых не больше 20 минут и кол-во ингредиентов в которых не больше 5."
   ]
  },
  {
   "metadata": {
    "ExecuteTime": {
     "end_time": "2024-11-20T02:51:51.421742Z",
     "start_time": "2024-11-20T02:51:51.412569Z"
    }
   },
   "cell_type": "code",
   "source": [
    "simple_recipes = recipes[(recipes['minutes'] <= 20) & (recipes['n_ingredients'] <= 5)]\n",
    "print(simple_recipes.head())"
   ],
   "outputs": [
    {
     "name": "stdout",
     "output_type": "stream",
     "text": [
      "                                              name  minutes  contributor_id  \\\n",
      "id                                                                            \n",
      "302399                         quick biscuit bread       20          213909   \n",
      "303944               peas  fit for a king or queen       20          213909   \n",
      "100837           hawaiian sunrise           mimosa        5           58104   \n",
      "286484  tasty dish s   banana pudding in 2 minutes        2           47892   \n",
      "11361                           1 minute meatballs       13            4470   \n",
      "\n",
      "         submitted  n_steps  \\\n",
      "id                            \n",
      "302399  2008-05-06     11.0   \n",
      "303944  2008-05-16      NaN   \n",
      "100837  2004-09-29      4.0   \n",
      "286484  2008-02-13      NaN   \n",
      "11361   2001-09-03      NaN   \n",
      "\n",
      "                                              description  n_ingredients  \n",
      "id                                                                        \n",
      "302399  this is a wonderful quick bread to make as an ...            5.0  \n",
      "303944  this recipe is so simple and the flavors are s...            5.0  \n",
      "100837  pineapple mimosa was changed to hawaiian sunri...            3.0  \n",
      "286484  \"mmmm, i love bananas!\" a --tasty dish-- origi...            4.0  \n",
      "11361   this is a real short cut for cooks in a hurry....            2.0  \n"
     ]
    }
   ],
   "execution_count": 59
  },
  {
   "cell_type": "markdown",
   "metadata": {},
   "source": [
    "6. Выведите информацию о рецептах, добавленных в датасет не позже 2010 года."
   ]
  },
  {
   "metadata": {
    "ExecuteTime": {
     "end_time": "2024-11-20T02:51:51.433579Z",
     "start_time": "2024-11-20T02:51:51.422735Z"
    }
   },
   "cell_type": "code",
   "source": [
    "before_2010 = recipes[recipes['submitted'] <= '2010']\n",
    "print(before_2010.head())"
   ],
   "outputs": [
    {
     "name": "stdout",
     "output_type": "stream",
     "text": [
      "                                           name  minutes  contributor_id  \\\n",
      "id                                                                         \n",
      "44123     george s at the cove  black bean soup       90           35193   \n",
      "67664        healthy for them  yogurt popsicles       10           91970   \n",
      "38798              i can t believe it s spinach       30            1533   \n",
      "35173                      italian  gut busters       45           22724   \n",
      "84797  love is in the air  beef fondue   sauces       25            4470   \n",
      "\n",
      "        submitted  n_steps                                        description  \\\n",
      "id                                                                              \n",
      "44123  2002-10-25      NaN  an original recipe created by chef scott meska...   \n",
      "67664  2003-07-26      NaN  my children and their friends ask for my homem...   \n",
      "38798  2002-08-29      NaN            these were so go, it surprised even me.   \n",
      "35173  2002-07-27      NaN  my sister-in-law made these for us at a family...   \n",
      "84797  2004-02-23      4.0  i think a fondue is a very romantic casual din...   \n",
      "\n",
      "       n_ingredients  \n",
      "id                    \n",
      "44123           18.0  \n",
      "67664            NaN  \n",
      "38798            8.0  \n",
      "35173            NaN  \n",
      "84797            NaN  \n"
     ]
    }
   ],
   "execution_count": 60
  },
  {
   "cell_type": "markdown",
   "metadata": {},
   "source": [
    "7.  Добавьте в таблицу `recipes` столбец `description_length`, в котором хранится длина описания рецепта из столбца `description`."
   ]
  },
  {
   "metadata": {
    "ExecuteTime": {
     "end_time": "2024-11-20T02:51:51.455760Z",
     "start_time": "2024-11-20T02:51:51.434575Z"
    }
   },
   "cell_type": "code",
   "source": [
    "recipes['description_length'] = recipes['description'].str.len()\n",
    "print(recipes.head())"
   ],
   "outputs": [
    {
     "name": "stdout",
     "output_type": "stream",
     "text": [
      "                                           name  minutes  contributor_id  \\\n",
      "id                                                                         \n",
      "44123     george s at the cove  black bean soup       90           35193   \n",
      "67664        healthy for them  yogurt popsicles       10           91970   \n",
      "38798              i can t believe it s spinach       30            1533   \n",
      "35173                      italian  gut busters       45           22724   \n",
      "84797  love is in the air  beef fondue   sauces       25            4470   \n",
      "\n",
      "        submitted  n_steps                                        description  \\\n",
      "id                                                                              \n",
      "44123  2002-10-25      NaN  an original recipe created by chef scott meska...   \n",
      "67664  2003-07-26      NaN  my children and their friends ask for my homem...   \n",
      "38798  2002-08-29      NaN            these were so go, it surprised even me.   \n",
      "35173  2002-07-27      NaN  my sister-in-law made these for us at a family...   \n",
      "84797  2004-02-23      4.0  i think a fondue is a very romantic casual din...   \n",
      "\n",
      "       n_ingredients  description_length  \n",
      "id                                        \n",
      "44123           18.0               330.0  \n",
      "67664            NaN               255.0  \n",
      "38798            8.0                39.0  \n",
      "35173            NaN               154.0  \n",
      "84797            NaN               587.0  \n"
     ]
    }
   ],
   "execution_count": 61
  },
  {
   "cell_type": "markdown",
   "metadata": {},
   "source": [
    "8. Измените название каждого рецепта в таблице `recipes` таким образом, чтобы каждое слово в названии начиналось с прописной буквы."
   ]
  },
  {
   "metadata": {
    "ExecuteTime": {
     "end_time": "2024-11-20T02:51:51.476408Z",
     "start_time": "2024-11-20T02:51:51.456755Z"
    }
   },
   "cell_type": "code",
   "source": [
    "recipes['name'] = recipes['name'].str.capitalize()\n",
    "print(recipes.head())"
   ],
   "outputs": [
    {
     "name": "stdout",
     "output_type": "stream",
     "text": [
      "                                           name  minutes  contributor_id  \\\n",
      "id                                                                         \n",
      "44123     George s at the cove  black bean soup       90           35193   \n",
      "67664        Healthy for them  yogurt popsicles       10           91970   \n",
      "38798              I can t believe it s spinach       30            1533   \n",
      "35173                      Italian  gut busters       45           22724   \n",
      "84797  Love is in the air  beef fondue   sauces       25            4470   \n",
      "\n",
      "        submitted  n_steps                                        description  \\\n",
      "id                                                                              \n",
      "44123  2002-10-25      NaN  an original recipe created by chef scott meska...   \n",
      "67664  2003-07-26      NaN  my children and their friends ask for my homem...   \n",
      "38798  2002-08-29      NaN            these were so go, it surprised even me.   \n",
      "35173  2002-07-27      NaN  my sister-in-law made these for us at a family...   \n",
      "84797  2004-02-23      4.0  i think a fondue is a very romantic casual din...   \n",
      "\n",
      "       n_ingredients  description_length  \n",
      "id                                        \n",
      "44123           18.0               330.0  \n",
      "67664            NaN               255.0  \n",
      "38798            8.0                39.0  \n",
      "35173            NaN               154.0  \n",
      "84797            NaN               587.0  \n"
     ]
    }
   ],
   "execution_count": 62
  },
  {
   "cell_type": "markdown",
   "metadata": {},
   "source": [
    "9. Добавьте в таблицу `recipes` столбец `name_word_count`, в котором хранится количество слов из названии рецепта (считайте, что слова в названии разделяются только пробелами)."
   ]
  },
  {
   "metadata": {
    "ExecuteTime": {
     "end_time": "2024-11-20T02:52:29.492778Z",
     "start_time": "2024-11-20T02:52:29.328059Z"
    }
   },
   "cell_type": "code",
   "source": [
    "recipes['name_word_count'] = recipes['name'].str.split().str.len()\n",
    "print(recipes.head())"
   ],
   "outputs": [
    {
     "name": "stdout",
     "output_type": "stream",
     "text": [
      "                                           name  minutes  contributor_id  \\\n",
      "id                                                                         \n",
      "44123     George s at the cove  black bean soup       90           35193   \n",
      "67664        Healthy for them  yogurt popsicles       10           91970   \n",
      "38798              I can t believe it s spinach       30            1533   \n",
      "35173                      Italian  gut busters       45           22724   \n",
      "84797  Love is in the air  beef fondue   sauces       25            4470   \n",
      "\n",
      "        submitted  n_steps                                        description  \\\n",
      "id                                                                              \n",
      "44123  2002-10-25      NaN  an original recipe created by chef scott meska...   \n",
      "67664  2003-07-26      NaN  my children and their friends ask for my homem...   \n",
      "38798  2002-08-29      NaN            these were so go, it surprised even me.   \n",
      "35173  2002-07-27      NaN  my sister-in-law made these for us at a family...   \n",
      "84797  2004-02-23      4.0  i think a fondue is a very romantic casual din...   \n",
      "\n",
      "       n_ingredients  description_length  name_word_count  \n",
      "id                                                         \n",
      "44123           18.0               330.0                8  \n",
      "67664            NaN               255.0                5  \n",
      "38798            8.0                39.0                7  \n",
      "35173            NaN               154.0                3  \n",
      "84797            NaN               587.0                8  \n"
     ]
    }
   ],
   "execution_count": 63
  },
  {
   "cell_type": "markdown",
   "metadata": {},
   "source": [
    "10. Посчитайте количество рецептов, представленных каждым из участников (`contributor_id`). Какой участник добавил максимальное кол-во рецептов?"
   ]
  },
  {
   "metadata": {
    "ExecuteTime": {
     "end_time": "2024-11-20T02:56:32.076457Z",
     "start_time": "2024-11-20T02:56:32.071456Z"
    }
   },
   "cell_type": "code",
   "source": [
    "recipes_by_contributor = recipes['contributor_id'].value_counts()\n",
    "print(f'Amount of recipes by contributor: {recipes_by_contributor.head()}')\n",
    "max_contributor = recipes_by_contributor.idxmax()\n",
    "print(f\"Contributor {max_contributor} contributed the most recipes\")"
   ],
   "outputs": [
    {
     "name": "stdout",
     "output_type": "stream",
     "text": [
      "Amount of recipes by contributor: contributor_id\n",
      "89831     421\n",
      "37449     346\n",
      "37779     345\n",
      "1533      186\n",
      "169430    183\n",
      "Name: count, dtype: int64\n",
      "Contributor 89831 contributed the most recipes\n"
     ]
    }
   ],
   "execution_count": 67
  },
  {
   "cell_type": "markdown",
   "metadata": {},
   "source": [
    "11. При помощи объединения таблиц, создайте `DataFrame`, состоящий из четырех столбцов: `id`, `name`, `user_id`, `rating`. Рецепты без отзывов должны отсутствовать в данной таблице. Подтвердите правильность работы вашего кода, выбрав рецепт, не имеющий отзывов, и выведя на экран строку из полученного `DataFrame`, содержащую информацию об этом отзыве."
   ]
  },
  {
   "metadata": {
    "ExecuteTime": {
     "end_time": "2024-11-20T02:57:02.474622Z",
     "start_time": "2024-11-20T02:57:02.439783Z"
    }
   },
   "cell_type": "code",
   "source": [
    "recipes_id = recipes.reset_index()\n",
    "merged = pd.merge(recipes_id[['id', 'name']], reviews[['recipe_id', 'user_id', 'rating']], left_on='id', right_on='recipe_id', how='inner')\n",
    "print(merged.head())\n",
    "print()\n",
    "recipes_without_review = recipes_id[~recipes_id['id'].isin(reviews['recipe_id'])]\n",
    "print(f\"Recipes without review: \\n{recipes_without_review.head()}\")"
   ],
   "outputs": [
    {
     "name": "stdout",
     "output_type": "stream",
     "text": [
      "      id                                   name  recipe_id  user_id  rating\n",
      "0  44123  George s at the cove  black bean soup      44123   743566       5\n",
      "1  44123  George s at the cove  black bean soup      44123    76503       5\n",
      "2  44123  George s at the cove  black bean soup      44123    34206       5\n",
      "3  67664     Healthy for them  yogurt popsicles      67664   494084       5\n",
      "4  67664     Healthy for them  yogurt popsicles      67664   303445       5\n",
      "\n",
      "Recipes without review: \n",
      "        id                                     name  minutes  contributor_id  \\\n",
      "26  223349            Pasta  with shrimp   eggplant       50          452592   \n",
      "29  342620          Secret ingredient  bbq meatloaf       75           50969   \n",
      "35  276594        Windy s  sweet and sour meatballs       50          341338   \n",
      "49  216068  Goulashy  beef stew for the slow cooker      430          446143   \n",
      "59  306590             Old bay  grilled steak fries       20          337736   \n",
      "\n",
      "     submitted  n_steps                                        description  \\\n",
      "26  2007-04-18      7.0  a nice low carb way to feel like you are eatin...   \n",
      "29  2008-12-09      9.0  i know what you might be thinking,'ho hum, ano...   \n",
      "35  2008-01-05      6.0  whenever we had a potluck lunch at the office ...   \n",
      "49  2007-03-10      NaN  noodle beef stew in the slow cooker...easy com...   \n",
      "59  2008-05-31      NaN  found this in a magazine, yet to try, but look...   \n",
      "\n",
      "    n_ingredients  description_length  name_word_count  \n",
      "26            9.0                54.0                4  \n",
      "29           10.0               326.0                4  \n",
      "35           14.0               467.0                6  \n",
      "49           13.0                56.0                7  \n",
      "59           15.0                56.0                5  \n"
     ]
    }
   ],
   "execution_count": 68
  }
 ],
 "metadata": {
  "kernelspec": {
   "display_name": "Python 3",
   "language": "python",
   "name": "python3"
  },
  "language_info": {
   "codemirror_mode": {
    "name": "ipython",
    "version": 3
   },
   "file_extension": ".py",
   "mimetype": "text/x-python",
   "name": "python",
   "nbconvert_exporter": "python",
   "pygments_lexer": "ipython3",
   "version": "3.8.8"
  }
 },
 "nbformat": 4,
 "nbformat_minor": 4
}
