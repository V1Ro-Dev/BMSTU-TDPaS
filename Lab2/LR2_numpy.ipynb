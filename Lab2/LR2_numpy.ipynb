{
 "cells": [
  {
   "cell_type": "markdown",
   "metadata": {
    "editable": true,
    "slideshow": {
     "slide_type": ""
    },
    "tags": []
   },
   "source": [
    "# Numpy"
   ]
  },
  {
   "cell_type": "markdown",
   "metadata": {},
   "source": [
    "Полезные ссылки\n",
    "* https://www.kaggle.com/code/landlord/numpy-tutorial\n",
    "* https://numpy.org/doc/stable/user/index.html\n",
    "* https://numpy.org/doc/stable/reference/index.html\n",
    "* https://www.kaggle.com/code/themlphdstudent/learn-numpy-numpy-50-exercises-and-solution"
   ]
  },
  {
   "cell_type": "markdown",
   "metadata": {},
   "source": [
    "## Задачи"
   ]
  },
  {
   "cell_type": "markdown",
   "metadata": {},
   "source": [
    "Замечание: при решении данных задач не подразумевается использования циклов или генераторов Python. Решение должно опираться исключительно на использования функционала библиотеки `numpy`."
   ]
  },
  {
   "cell_type": "code",
   "metadata": {
    "ExecuteTime": {
     "end_time": "2025-01-19T16:25:06.842810Z",
     "start_time": "2025-01-19T16:25:06.839640Z"
    }
   },
   "source": [
    "import numpy as np"
   ],
   "outputs": [],
   "execution_count": 2
  },
  {
   "cell_type": "markdown",
   "metadata": {},
   "source": [
    "1. Файл `minutes_n_ingredients.csv` содержит информацию об идентификаторе рецепта, времени его выполнения в минутах и количестве необходимых ингредиентов. Считайте данные из этого файла в виде массива `numpy` Выведите на экран первые 10 строк массива."
   ]
  },
  {
   "cell_type": "code",
   "metadata": {
    "editable": true,
    "slideshow": {
     "slide_type": ""
    },
    "tags": [],
    "ExecuteTime": {
     "end_time": "2025-01-19T16:25:10.388622Z",
     "start_time": "2025-01-19T16:25:10.147032Z"
    }
   },
   "source": [
    "data = np.genfromtxt('minutes_n_ingredients.csv', delimiter=',', skip_header=1)\n",
    "print('---')\n",
    "print(data[:10])"
   ],
   "outputs": [
    {
     "name": "stdout",
     "output_type": "stream",
     "text": [
      "---\n",
      "[[1.27244e+05 6.00000e+01 1.60000e+01]\n",
      " [2.38910e+04 2.50000e+01 7.00000e+00]\n",
      " [9.47460e+04 1.00000e+01 6.00000e+00]\n",
      " [6.76600e+04 5.00000e+00 6.00000e+00]\n",
      " [1.57911e+05 6.00000e+01 1.40000e+01]\n",
      " [1.52828e+05 4.00000e+01 7.00000e+00]\n",
      " [3.39410e+04 1.80000e+01 9.00000e+00]\n",
      " [4.46597e+05 1.50000e+01 5.00000e+00]\n",
      " [3.66174e+05 7.00000e+00 9.00000e+00]\n",
      " [7.42050e+04 2.00000e+01 7.00000e+00]]\n"
     ]
    }
   ],
   "execution_count": 3
  },
  {
   "cell_type": "markdown",
   "metadata": {},
   "source": [
    "2. Вычислите среднее значение, минимум, максимум и медиану по каждому из столбцов, кроме первого."
   ]
  },
  {
   "cell_type": "code",
   "metadata": {
    "ExecuteTime": {
     "end_time": "2024-11-20T19:07:35.707728Z",
     "start_time": "2024-11-20T19:07:35.670558Z"
    }
   },
   "source": [
    "print('---')\n",
    "updated_data = data[:, 1:]\n",
    "mean = np.mean(updated_data, axis=0)\n",
    "min_ = np.min(updated_data, axis=0)\n",
    "max_ = np.max(updated_data, axis=0)\n",
    "median = np.median(updated_data, axis=0)\n",
    "print(f'Mean: {mean}')\n",
    "print(f'Min: {min_}')\n",
    "print(f'Max: {max_}')\n",
    "print(f'Median: {median}')"
   ],
   "execution_count": 3,
   "outputs": []
  },
  {
   "cell_type": "markdown",
   "metadata": {},
   "source": [
    "3. Посчитайте, для скольких рецептов указана продолжительность, равная нулю. Замените для таких строк значение в данном столбце на 1."
   ]
  },
  {
   "metadata": {
    "ExecuteTime": {
     "end_time": "2024-11-20T19:07:35.746472Z",
     "start_time": "2024-11-20T19:07:35.738776Z"
    }
   },
   "cell_type": "code",
   "source": [
    "print('---')\n",
    "zero_cnt = np.sum(data[:, 1] == 0)\n",
    "print(f'Amount of 0: {zero_cnt}')\n",
    "data[:, 1][data[:, 1] == 0] = 1\n",
    "zero_cnt_updated = np.sum(data[:, 1] == 0)\n",
    "print(f'Amount of 0: {zero_cnt_updated}')"
   ],
   "execution_count": 4,
   "outputs": []
  },
  {
   "cell_type": "markdown",
   "metadata": {},
   "source": [
    "4. Посчитайте, сколько уникальных рецептов находится в датасете."
   ]
  },
  {
   "metadata": {
    "ExecuteTime": {
     "end_time": "2024-11-20T19:07:35.763801Z",
     "start_time": "2024-11-20T19:07:35.756794Z"
    }
   },
   "cell_type": "code",
   "source": [
    "unique_recipes = np.unique(data[:, 0])\n",
    "print(f'Unique recipes: {len(unique_recipes)}')"
   ],
   "execution_count": 5,
   "outputs": []
  },
  {
   "cell_type": "markdown",
   "metadata": {},
   "source": [
    "5. Сколько и каких различных значений кол-ва ингредиентов присутвует в рецептах из датасета?"
   ]
  },
  {
   "metadata": {
    "ExecuteTime": {
     "end_time": "2024-11-20T19:07:35.796735Z",
     "start_time": "2024-11-20T19:07:35.783362Z"
    }
   },
   "cell_type": "code",
   "source": [
    "unique_ingredients = np.unique(data[:, 2])\n",
    "print(f'Unique ingredients: {len(unique_ingredients)}')\n",
    "print(f'Unique amount of ingredients: {unique_ingredients}')"
   ],
   "execution_count": 6,
   "outputs": []
  },
  {
   "cell_type": "markdown",
   "metadata": {},
   "source": [
    "6. Создайте версию массива, содержащую информацию только о рецептах, состоящих не более чем из 5 ингредиентов."
   ]
  },
  {
   "metadata": {
    "ExecuteTime": {
     "end_time": "2024-11-20T19:07:35.829739Z",
     "start_time": "2024-11-20T19:07:35.816257Z"
    }
   },
   "cell_type": "code",
   "source": [
    "print('---')\n",
    "recipes_less_5 = data[:][data[:, 2] <= 5]\n",
    "print(f'Recipes have less than 5 ingredients: {recipes_less_5[:10]}')"
   ],
   "execution_count": 7,
   "outputs": []
  },
  {
   "cell_type": "markdown",
   "metadata": {},
   "source": [
    "7. Для каждого рецепта посчитайте, сколько в среднем ингредиентов приходится на одну минуту рецепта. Найдите максимальное значение этой величины для всего датасета"
   ]
  },
  {
   "metadata": {
    "ExecuteTime": {
     "end_time": "2024-11-20T19:07:35.862883Z",
     "start_time": "2024-11-20T19:07:35.858347Z"
    }
   },
   "cell_type": "code",
   "source": [
    "print('---')\n",
    "avg_ingredients_per_minute = data[:, 2] / data[:, 1]\n",
    "print(f'Ingredients per min: {avg_ingredients_per_minute[:10]}')\n",
    "print(f'Max avg: {np.max(avg_ingredients_per_minute)}')"
   ],
   "execution_count": 8,
   "outputs": []
  },
  {
   "cell_type": "markdown",
   "metadata": {},
   "source": [
    "8. Вычислите среднее количество ингредиентов для топ-100 рецептов с наибольшей продолжительностью"
   ]
  },
  {
   "metadata": {
    "ExecuteTime": {
     "end_time": "2024-11-20T19:07:35.908291Z",
     "start_time": "2024-11-20T19:07:35.893007Z"
    }
   },
   "cell_type": "code",
   "source": [
    "print('---')\n",
    "top_100_sorted = data[data[:, 1].argsort()][-100:]\n",
    "avg_ingredients_top_100 = np.mean(top_100_sorted[:, 2], axis=0)\n",
    "print(f'Top 100 recipes: {top_100_sorted[:10]}')\n",
    "print(f'Average ingredient count per minute for top 100: {avg_ingredients_top_100}')"
   ],
   "execution_count": 9,
   "outputs": []
  },
  {
   "cell_type": "markdown",
   "metadata": {},
   "source": [
    "9. Выберите случайным образом и выведите информацию о 10 различных рецептах"
   ]
  },
  {
   "metadata": {
    "ExecuteTime": {
     "end_time": "2024-11-20T19:07:35.945937Z",
     "start_time": "2024-11-20T19:07:35.929293Z"
    }
   },
   "cell_type": "code",
   "source": [
    "rng = np.random.default_rng()\n",
    "print(f'10 random recipes: {data[rng.integers(len(data), size=10)]}')"
   ],
   "execution_count": 10,
   "outputs": []
  },
  {
   "cell_type": "markdown",
   "metadata": {},
   "source": [
    "10. Выведите процент рецептов, кол-во ингредиентов в которых меньше среднего."
   ]
  },
  {
   "metadata": {
    "ExecuteTime": {
     "end_time": "2024-11-20T19:07:35.975206Z",
     "start_time": "2024-11-20T19:07:35.965965Z"
    }
   },
   "cell_type": "code",
   "source": [
    "avg_ingredients = np.mean(data[:, 2], axis=0)\n",
    "print(f'Avg ingredients: {avg_ingredients}')\n",
    "less_than_avg_ingredients = data[data[:, 2] < avg_ingredients]\n",
    "print(f'Less than avg ingredients: {len(less_than_avg_ingredients) / len(data) * 100}%')"
   ],
   "execution_count": 11,
   "outputs": []
  },
  {
   "cell_type": "markdown",
   "metadata": {},
   "source": [
    "11. Назовем \"простым\" такой рецепт, длительность выполнения которого не больше 20 минут и кол-во ингредиентов в котором не больше 5. Создайте версию датасета с дополнительным столбцом, значениями которого являются 1, если рецепт простой, и 0 в противном случае."
   ]
  },
  {
   "metadata": {
    "ExecuteTime": {
     "end_time": "2024-11-20T19:07:36.072106Z",
     "start_time": "2024-11-20T19:07:36.062202Z"
    }
   },
   "cell_type": "code",
   "source": [
    "print('---')\n",
    "is_simple = (data[:, 1] <= 20) & (data[:, 2] <= 5)\n",
    "data = np.insert(data, 3, is_simple.astype(int), axis=1)\n",
    "print(f'After adding column: {data[:10]}')"
   ],
   "execution_count": 12,
   "outputs": []
  },
  {
   "cell_type": "markdown",
   "metadata": {},
   "source": [
    "12. Выведите процент \"простых\" рецептов в датасете"
   ]
  },
  {
   "metadata": {
    "ExecuteTime": {
     "end_time": "2024-11-20T19:07:36.217122Z",
     "start_time": "2024-11-20T19:07:36.205627Z"
    }
   },
   "cell_type": "code",
   "source": [
    "print('---')\n",
    "is_simple_new = (data[:, 1] <= 20) & (data[:, 2] <= 5)\n",
    "is_simple_count = np.count_nonzero(is_simple)\n",
    "print(f\"Percentage of simple recipies: {is_simple_count/data.shape[0] * 100}%\")"
   ],
   "execution_count": 13,
   "outputs": []
  },
  {
   "metadata": {
    "ExecuteTime": {
     "end_time": "2024-11-20T19:07:36.342126Z",
     "start_time": "2024-11-20T19:07:36.328063Z"
    }
   },
   "cell_type": "code",
   "source": "",
   "execution_count": null,
   "outputs": []
  }
 ],
 "metadata": {
  "kernelspec": {
   "display_name": "Python 3 (ipykernel)",
   "language": "python",
   "name": "python3"
  },
  "language_info": {
   "codemirror_mode": {
    "name": "ipython",
    "version": 3
   },
   "file_extension": ".py",
   "mimetype": "text/x-python",
   "name": "python",
   "nbconvert_exporter": "python",
   "pygments_lexer": "ipython3",
   "version": "3.12.7"
  }
 },
 "nbformat": 4,
 "nbformat_minor": 4
}
