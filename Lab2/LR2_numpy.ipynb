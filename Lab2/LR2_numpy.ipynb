{
 "cells": [
  {
   "cell_type": "markdown",
   "metadata": {
    "editable": true,
    "slideshow": {
     "slide_type": ""
    },
    "tags": []
   },
   "source": [
    "# Numpy"
   ]
  },
  {
   "cell_type": "markdown",
   "metadata": {},
   "source": [
    "Полезные ссылки\n",
    "* https://www.kaggle.com/code/landlord/numpy-tutorial\n",
    "* https://numpy.org/doc/stable/user/index.html\n",
    "* https://numpy.org/doc/stable/reference/index.html\n",
    "* https://www.kaggle.com/code/themlphdstudent/learn-numpy-numpy-50-exercises-and-solution"
   ]
  },
  {
   "cell_type": "markdown",
   "metadata": {},
   "source": [
    "## Задачи"
   ]
  },
  {
   "cell_type": "markdown",
   "metadata": {},
   "source": [
    "Замечание: при решении данных задач не подразумевается использования циклов или генераторов Python. Решение должно опираться исключительно на использования функционала библиотеки `numpy`."
   ]
  },
  {
   "cell_type": "code",
   "metadata": {
    "ExecuteTime": {
     "end_time": "2024-11-19T22:24:05.350497Z",
     "start_time": "2024-11-19T22:24:05.269113Z"
    }
   },
   "source": [
    "import numpy as np"
   ],
   "outputs": [],
   "execution_count": 1
  },
  {
   "cell_type": "markdown",
   "metadata": {},
   "source": [
    "1. Файл `minutes_n_ingredients.csv` содержит информацию об идентификаторе рецепта, времени его выполнения в минутах и количестве необходимых ингредиентов. Считайте данные из этого файла в виде массива `numpy` Выведите на экран первые 10 строк массива."
   ]
  },
  {
   "cell_type": "code",
   "metadata": {
    "editable": true,
    "slideshow": {
     "slide_type": ""
    },
    "tags": [],
    "ExecuteTime": {
     "end_time": "2024-11-19T22:57:45.036897Z",
     "start_time": "2024-11-19T22:57:44.836663Z"
    }
   },
   "source": [
    "data = np.genfromtxt('minutes_n_ingredients.csv', delimiter=',', skip_header=1)\n",
    "print('---')\n",
    "print(data[:10])"
   ],
   "outputs": [
    {
     "name": "stdout",
     "output_type": "stream",
     "text": [
      "---\n",
      "[[1.27244e+05 6.00000e+01 1.60000e+01]\n",
      " [2.38910e+04 2.50000e+01 7.00000e+00]\n",
      " [9.47460e+04 1.00000e+01 6.00000e+00]\n",
      " [6.76600e+04 5.00000e+00 6.00000e+00]\n",
      " [1.57911e+05 6.00000e+01 1.40000e+01]\n",
      " [1.52828e+05 4.00000e+01 7.00000e+00]\n",
      " [3.39410e+04 1.80000e+01 9.00000e+00]\n",
      " [4.46597e+05 1.50000e+01 5.00000e+00]\n",
      " [3.66174e+05 7.00000e+00 9.00000e+00]\n",
      " [7.42050e+04 2.00000e+01 7.00000e+00]]\n"
     ]
    }
   ],
   "execution_count": 16
  },
  {
   "cell_type": "markdown",
   "metadata": {},
   "source": [
    "2. Вычислите среднее значение, минимум, максимум и медиану по каждому из столбцов, кроме первого."
   ]
  },
  {
   "cell_type": "code",
   "metadata": {
    "ExecuteTime": {
     "end_time": "2024-11-19T22:57:48.484960Z",
     "start_time": "2024-11-19T22:57:48.472245Z"
    }
   },
   "source": [
    "print('---')\n",
    "updated_data = data[:, 1:]\n",
    "mean = np.mean(updated_data, axis=0)\n",
    "min_ = np.min(updated_data, axis=0)\n",
    "max_ = np.max(updated_data, axis=0)\n",
    "median = np.median(updated_data, axis=0)\n",
    "print(f'Mean: {mean}')\n",
    "print(f'Min: {min_}')\n",
    "print(f'Max: {max_}')\n",
    "print(f'Median: {median}')"
   ],
   "outputs": [
    {
     "name": "stdout",
     "output_type": "stream",
     "text": [
      "---\n",
      "Mean: [2.16010017e+04 9.05528000e+00]\n",
      "Min: [0. 1.]\n",
      "Max: [2.14748365e+09 3.90000000e+01]\n",
      "Median: [40.  9.]\n"
     ]
    }
   ],
   "execution_count": 17
  },
  {
   "cell_type": "markdown",
   "metadata": {},
   "source": [
    "3. Посчитайте, для скольких рецептов указана продолжительность, равная нулю. Замените для таких строк значение в данном столбце на 1."
   ]
  },
  {
   "metadata": {
    "ExecuteTime": {
     "end_time": "2024-11-19T23:14:13.459944Z",
     "start_time": "2024-11-19T23:14:13.454241Z"
    }
   },
   "cell_type": "code",
   "source": [
    "print('---')\n",
    "zero_cnt = np.sum(data[:, 1] == 0)\n",
    "print(f'Amount of 0: {zero_cnt}')\n",
    "data[:, 1][data[:, 1] == 0] = 1\n",
    "zero_cnt_updated = np.sum(data[:, 1] == 0)\n",
    "print(f'Amount of 0: {zero_cnt_updated}')"
   ],
   "outputs": [
    {
     "name": "stdout",
     "output_type": "stream",
     "text": [
      "---\n",
      "Amount of 0: 479\n",
      "Amount of 0: 0\n"
     ]
    }
   ],
   "execution_count": 20
  },
  {
   "cell_type": "markdown",
   "metadata": {},
   "source": [
    "4. Посчитайте, сколько уникальных рецептов находится в датасете."
   ]
  },
  {
   "metadata": {
    "ExecuteTime": {
     "end_time": "2024-11-19T23:16:49.568459Z",
     "start_time": "2024-11-19T23:16:49.563559Z"
    }
   },
   "cell_type": "code",
   "source": [
    "unique_recipes = np.unique(data[:, 0])\n",
    "print(f'Unique recipes: {len(unique_recipes)}')"
   ],
   "outputs": [
    {
     "name": "stdout",
     "output_type": "stream",
     "text": [
      "Unique recipes: 100000\n"
     ]
    }
   ],
   "execution_count": 21
  },
  {
   "cell_type": "markdown",
   "metadata": {},
   "source": [
    "5. Сколько и каких различных значений кол-ва ингредиентов присутвует в рецептах из датасета?"
   ]
  },
  {
   "metadata": {
    "ExecuteTime": {
     "end_time": "2024-11-19T23:18:52.903418Z",
     "start_time": "2024-11-19T23:18:52.898701Z"
    }
   },
   "cell_type": "code",
   "source": [
    "unique_ingredients = np.unique(data[:, 2])\n",
    "print(f'Unique ingredients: {len(unique_ingredients)}')\n",
    "print(f'Unique amount of ingredients: {unique_ingredients}')"
   ],
   "outputs": [
    {
     "name": "stdout",
     "output_type": "stream",
     "text": [
      "Unique ingredients: 37\n",
      "Unique amount of ingredients: [ 1.  2.  3.  4.  5.  6.  7.  8.  9. 10. 11. 12. 13. 14. 15. 16. 17. 18.\n",
      " 19. 20. 21. 22. 23. 24. 25. 26. 27. 28. 29. 30. 31. 32. 33. 34. 35. 37.\n",
      " 39.]\n"
     ]
    }
   ],
   "execution_count": 22
  },
  {
   "cell_type": "markdown",
   "metadata": {},
   "source": [
    "6. Создайте версию массива, содержащую информацию только о рецептах, состоящих не более чем из 5 ингредиентов."
   ]
  },
  {
   "metadata": {
    "ExecuteTime": {
     "end_time": "2024-11-19T23:42:32.669405Z",
     "start_time": "2024-11-19T23:42:32.664992Z"
    }
   },
   "cell_type": "code",
   "source": [
    "print('---')\n",
    "recipes_less_5 = data[:][data[:, 2] <= 5]\n",
    "print(f'Recipes have less than 5 ingredients: {recipes_less_5[:10]}')"
   ],
   "outputs": [
    {
     "name": "stdout",
     "output_type": "stream",
     "text": [
      "---\n",
      "Recipes have less than 5 ingredients: [[4.46597e+05 1.50000e+01 5.00000e+00]\n",
      " [2.04134e+05 5.00000e+00 3.00000e+00]\n",
      " [2.56230e+04 6.00000e+00 4.00000e+00]\n",
      " [4.84223e+05 1.80000e+01 4.00000e+00]\n",
      " [6.31500e+04 2.50000e+02 4.00000e+00]\n",
      " [7.04530e+04 2.50000e+01 4.00000e+00]\n",
      " [6.68420e+04 2.00000e+00 4.00000e+00]\n",
      " [3.37928e+05 5.50000e+01 4.00000e+00]\n",
      " [1.40245e+05 5.00000e+00 5.00000e+00]\n",
      " [7.53130e+04 6.03000e+02 5.00000e+00]]\n"
     ]
    }
   ],
   "execution_count": 44
  },
  {
   "cell_type": "markdown",
   "metadata": {},
   "source": [
    "7. Для каждого рецепта посчитайте, сколько в среднем ингредиентов приходится на одну минуту рецепта. Найдите максимальное значение этой величины для всего датасета"
   ]
  },
  {
   "metadata": {
    "ExecuteTime": {
     "end_time": "2024-11-19T23:41:53.487233Z",
     "start_time": "2024-11-19T23:41:53.483235Z"
    }
   },
   "cell_type": "code",
   "source": [
    "print('---')\n",
    "avg_ingredients_per_minute = data[:, 2] / data[:, 1]\n",
    "print(f'Ingredients per min: {avg_ingredients_per_minute[:10]}')\n",
    "print(f'Max avg: {np.max(avg_ingredients_per_minute)}')"
   ],
   "outputs": [
    {
     "name": "stdout",
     "output_type": "stream",
     "text": [
      "---\n",
      "Ingredients per min: [0.26666667 0.28       0.6        1.2        0.23333333 0.175\n",
      " 0.5        0.33333333 1.28571429 0.35      ]\n",
      "Max avg: 24.0\n"
     ]
    }
   ],
   "execution_count": 43
  },
  {
   "cell_type": "markdown",
   "metadata": {},
   "source": [
    "8. Вычислите среднее количество ингредиентов для топ-100 рецептов с наибольшей продолжительностью"
   ]
  },
  {
   "metadata": {
    "ExecuteTime": {
     "end_time": "2024-11-20T00:06:53.096948Z",
     "start_time": "2024-11-20T00:06:53.086421Z"
    }
   },
   "cell_type": "code",
   "source": [
    "print('---')\n",
    "top_100_sorted = data[data[:, 1].argsort()][-100:]\n",
    "avg_ingredients_top_100 = np.mean(top_100_sorted[:, 2], axis=0)\n",
    "print(f'Top 100 recipes: {top_100_sorted[:10]}')\n",
    "print(f'Average ingredient count per minute for top 100: {avg_ingredients_top_100}')"
   ],
   "outputs": [
    {
     "name": "stdout",
     "output_type": "stream",
     "text": [
      "---\n",
      "Top 100 recipes: [[2.95040e+04 1.00950e+04 8.00000e+00]\n",
      " [2.52450e+05 1.01000e+04 4.00000e+00]\n",
      " [8.93390e+04 1.01050e+04 8.00000e+00]\n",
      " [3.69728e+05 1.01100e+04 7.00000e+00]\n",
      " [4.17539e+05 1.01100e+04 6.00000e+00]\n",
      " [1.99925e+05 1.01400e+04 7.00000e+00]\n",
      " [5.54110e+04 1.03200e+04 8.00000e+00]\n",
      " [2.58854e+05 1.03200e+04 1.30000e+01]\n",
      " [5.77210e+04 1.04400e+04 1.20000e+01]\n",
      " [1.06876e+05 1.15200e+04 8.00000e+00]]\n",
      "Average ingredient count per minute for top 100: 6.63\n"
     ]
    }
   ],
   "execution_count": 47
  },
  {
   "cell_type": "markdown",
   "metadata": {},
   "source": [
    "9. Выберите случайным образом и выведите информацию о 10 различных рецептах"
   ]
  },
  {
   "metadata": {
    "ExecuteTime": {
     "end_time": "2024-11-20T00:11:41.720388Z",
     "start_time": "2024-11-20T00:11:41.715711Z"
    }
   },
   "cell_type": "code",
   "source": [
    "rng = np.random.default_rng()\n",
    "print(f'10 random recipes: {data[rng.integers(len(data), size=10)]}')"
   ],
   "outputs": [
    {
     "name": "stdout",
     "output_type": "stream",
     "text": [
      "10 random recipes: [[2.34020e+04 1.10000e+01 4.00000e+00]\n",
      " [1.50763e+05 5.50000e+01 1.00000e+01]\n",
      " [3.38287e+05 1.50000e+01 1.20000e+01]\n",
      " [3.19067e+05 1.50000e+01 6.00000e+00]\n",
      " [7.14240e+04 4.50000e+01 1.00000e+01]\n",
      " [1.89275e+05 5.00000e+01 9.00000e+00]\n",
      " [1.89930e+05 2.00000e+01 6.00000e+00]\n",
      " [1.00475e+05 4.50000e+01 6.00000e+00]\n",
      " [9.64760e+04 1.10000e+02 2.00000e+00]\n",
      " [1.08775e+05 3.00000e+01 1.00000e+01]]\n"
     ]
    }
   ],
   "execution_count": 51
  },
  {
   "cell_type": "markdown",
   "metadata": {},
   "source": [
    "10. Выведите процент рецептов, кол-во ингредиентов в которых меньше среднего."
   ]
  },
  {
   "metadata": {
    "ExecuteTime": {
     "end_time": "2024-11-20T00:31:04.847107Z",
     "start_time": "2024-11-20T00:31:04.842108Z"
    }
   },
   "cell_type": "code",
   "source": [
    "avg_ingredients = np.mean(data[:, 2], axis=0)\n",
    "print(f'Avg ingredients: {avg_ingredients}')\n",
    "less_than_avg_ingredients = data[data[:, 2] < avg_ingredients]\n",
    "print(f'Less than avg ingredients: {len(less_than_avg_ingredients) / len(data) * 100}%')"
   ],
   "outputs": [
    {
     "name": "stdout",
     "output_type": "stream",
     "text": [
      "Avg ingredients: 9.05528\n",
      "Less than avg ingredients: 58.802%\n"
     ]
    }
   ],
   "execution_count": 61
  },
  {
   "cell_type": "markdown",
   "metadata": {},
   "source": [
    "11. Назовем \"простым\" такой рецепт, длительность выполнения которого не больше 20 минут и кол-во ингредиентов в котором не больше 5. Создайте версию датасета с дополнительным столбцом, значениями которого являются 1, если рецепт простой, и 0 в противном случае."
   ]
  },
  {
   "metadata": {
    "ExecuteTime": {
     "end_time": "2024-11-20T00:38:32.750366Z",
     "start_time": "2024-11-20T00:38:32.744110Z"
    }
   },
   "cell_type": "code",
   "source": [
    "print('---')\n",
    "is_simple = (data[:, 1] <= 20) & (data[:, 2] <= 5)\n",
    "data = np.insert(data, 3, is_simple.astype(int), axis=1)\n",
    "print(f'After adding column: {data[:10]}')"
   ],
   "outputs": [
    {
     "name": "stdout",
     "output_type": "stream",
     "text": [
      "---\n",
      "After adding column: [[1.27244e+05 6.00000e+01 1.60000e+01 0.00000e+00]\n",
      " [2.38910e+04 2.50000e+01 7.00000e+00 0.00000e+00]\n",
      " [9.47460e+04 1.00000e+01 6.00000e+00 0.00000e+00]\n",
      " [6.76600e+04 5.00000e+00 6.00000e+00 0.00000e+00]\n",
      " [1.57911e+05 6.00000e+01 1.40000e+01 0.00000e+00]\n",
      " [1.52828e+05 4.00000e+01 7.00000e+00 0.00000e+00]\n",
      " [3.39410e+04 1.80000e+01 9.00000e+00 0.00000e+00]\n",
      " [4.46597e+05 1.50000e+01 5.00000e+00 1.00000e+00]\n",
      " [3.66174e+05 7.00000e+00 9.00000e+00 0.00000e+00]\n",
      " [7.42050e+04 2.00000e+01 7.00000e+00 0.00000e+00]]\n"
     ]
    }
   ],
   "execution_count": 67
  },
  {
   "cell_type": "markdown",
   "metadata": {},
   "source": [
    "12. Выведите процент \"простых\" рецептов в датасете"
   ]
  },
  {
   "metadata": {
    "ExecuteTime": {
     "end_time": "2024-11-20T00:39:50.778548Z",
     "start_time": "2024-11-20T00:39:50.774141Z"
    }
   },
   "cell_type": "code",
   "source": [
    "print('---')\n",
    "is_simple_new = (data[:, 1] <= 20) & (data[:, 2] <= 5)\n",
    "is_simple_count = np.count_nonzero(is_simple)\n",
    "print(f\"Percentage of simple recipies: {is_simple_count/data.shape[0] * 100}%\")"
   ],
   "outputs": [
    {
     "name": "stdout",
     "output_type": "stream",
     "text": [
      "---\n",
      "Percentage of simple recipies: 9.552%\n"
     ]
    }
   ],
   "execution_count": 68
  }
 ],
 "metadata": {
  "kernelspec": {
   "display_name": "Python 3 (ipykernel)",
   "language": "python",
   "name": "python3"
  },
  "language_info": {
   "codemirror_mode": {
    "name": "ipython",
    "version": 3
   },
   "file_extension": ".py",
   "mimetype": "text/x-python",
   "name": "python",
   "nbconvert_exporter": "python",
   "pygments_lexer": "ipython3",
   "version": "3.12.7"
  }
 },
 "nbformat": 4,
 "nbformat_minor": 4
}
