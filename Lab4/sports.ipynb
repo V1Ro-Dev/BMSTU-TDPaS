{
 "cells": [
  {
   "cell_type": "code",
   "id": "initial_id",
   "metadata": {
    "collapsed": true,
    "ExecuteTime": {
     "end_time": "2024-12-24T11:31:47.443108Z",
     "start_time": "2024-12-24T11:31:47.440366Z"
    }
   },
   "source": "import pandas as pd",
   "outputs": [],
   "execution_count": 1
  },
  {
   "metadata": {
    "ExecuteTime": {
     "end_time": "2024-12-24T11:32:01.517693Z",
     "start_time": "2024-12-24T11:32:01.506163Z"
    }
   },
   "cell_type": "code",
   "source": "data = pd.read_csv('sports_data.csv')",
   "id": "552a7b65d382c22b",
   "outputs": [],
   "execution_count": 2
  },
  {
   "metadata": {
    "ExecuteTime": {
     "end_time": "2024-12-24T11:32:51.117881Z",
     "start_time": "2024-12-24T11:32:51.098983Z"
    }
   },
   "cell_type": "code",
   "source": [
    "team1_avg_score = data.groupby('Team1')['Score1'].mean().reset_index()\n",
    "team2_avg_score = data.groupby('Team2')['Score2'].mean().reset_index()\n",
    "\n",
    "avg_scores = pd.concat([team1_avg_score[['Team1', 'Score1']].rename(columns={'Team1': 'Team', 'Score1': 'Average_Score'}),\n",
    "                        team2_avg_score[['Team2', 'Score2']].rename(columns={'Team2': 'Team', 'Score2': 'Average_Score'})])\n",
    "\n",
    "avg_scores = avg_scores.groupby('Team')['Average_Score'].mean().reset_index()\n",
    "\n",
    "print(\"Среднее количество набранных очков для каждой команды:\")\n",
    "print(avg_scores)"
   ],
   "id": "186273dbdf30382d",
   "outputs": [
    {
     "name": "stdout",
     "output_type": "stream",
     "text": [
      "Среднее количество набранных очков для каждой команды:\n",
      "       Team  Average_Score\n",
      "0    Team_0      77.025000\n",
      "1    Team_1      73.062500\n",
      "2   Team_10      74.250000\n",
      "3   Team_11      75.335165\n",
      "4   Team_12      76.223214\n",
      "5    Team_2      77.897727\n",
      "6    Team_3      75.321429\n",
      "7    Team_4      75.116071\n",
      "8    Team_5      72.125000\n",
      "9    Team_6      74.490909\n",
      "10   Team_7      77.201389\n",
      "11   Team_8      76.416667\n",
      "12   Team_9      73.166667\n"
     ]
    }
   ],
   "execution_count": 3
  },
  {
   "metadata": {
    "ExecuteTime": {
     "end_time": "2024-12-24T11:33:49.578948Z",
     "start_time": "2024-12-24T11:33:49.565700Z"
    }
   },
   "cell_type": "code",
   "source": [
    "data['Winner'] = data.apply(lambda row: row['Team1'] if row['Score1'] > row['Score2'] else (row['Team2'] if row['Score2'] > row['Score1'] else None), axis=1)\n",
    "\n",
    "most_wins = data['Winner'].value_counts().idxmax()\n",
    "\n",
    "print(f\"чаще всего выигрывала команда: {most_wins}\")"
   ],
   "id": "645763fa3b1ac0c2",
   "outputs": [
    {
     "name": "stdout",
     "output_type": "stream",
     "text": [
      "чаще всего выигрывала команда: Team_7\n"
     ]
    }
   ],
   "execution_count": 6
  }
 ],
 "metadata": {
  "kernelspec": {
   "display_name": "Python 3",
   "language": "python",
   "name": "python3"
  },
  "language_info": {
   "codemirror_mode": {
    "name": "ipython",
    "version": 2
   },
   "file_extension": ".py",
   "mimetype": "text/x-python",
   "name": "python",
   "nbconvert_exporter": "python",
   "pygments_lexer": "ipython2",
   "version": "2.7.6"
  }
 },
 "nbformat": 4,
 "nbformat_minor": 5
}
